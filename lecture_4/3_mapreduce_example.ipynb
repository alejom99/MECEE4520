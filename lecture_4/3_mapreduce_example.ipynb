{
 "cells": [
  {
   "cell_type": "markdown",
   "metadata": {},
   "source": [
    "# Example of using MapReduce for transforming a dataset"
   ]
  },
  {
   "cell_type": "markdown",
   "metadata": {},
   "source": [
    "## View the data set\n",
    "\n",
    "This data set contains a list of raitings for some moves. The columns are Movie ID, Rating and Timestamp.\n",
    "\n",
    "Example obtained from: <https://stackoverflow.com/questions/42334100/running-mapreduce-from-jupyter-notebook>"
   ]
  },
  {
   "cell_type": "code",
   "execution_count": 1,
   "metadata": {},
   "outputs": [
    {
     "name": "stdout",
     "output_type": "stream",
     "text": [
      "242,3,881250949\r\n",
      "302,3,891717742\r\n",
      "377,1,878887116\r\n",
      "51,2,880606923\r\n",
      "346,1,886397596\r\n",
      "474,4,884182806\r\n",
      "265,2,881171488\r\n",
      "465,5,891628467\r\n",
      "451,3,886324817\r\n",
      "86,3,883603013\r\n"
     ]
    }
   ],
   "source": [
    "!cat ./map_reduce/movie_ratings.csv"
   ]
  },
  {
   "cell_type": "markdown",
   "metadata": {},
   "source": [
    "# Create the MapReduce Job"
   ]
  },
  {
   "cell_type": "code",
   "execution_count": 2,
   "metadata": {},
   "outputs": [
    {
     "name": "stdout",
     "output_type": "stream",
     "text": [
      "Overwriting rating_counter.py\n"
     ]
    }
   ],
   "source": [
    "%%file rating_counter.py\n",
    "\n",
    "from mrjob.job import MRJob\n",
    "\n",
    "class MRRatingCounter(MRJob):\n",
    "\n",
    "    def mapper(self, key, line):\n",
    "        (movie_id, rating, timestamp) = line.split(\",\")\n",
    "        yield rating, 1\n",
    "\n",
    "    def reducer(self, rating, occurences):\n",
    "        yield rating, sum(occurences)\n",
    "        \n",
    "if __name__ == \"__main__\":\n",
    "    MRRatingCounter.run()"
   ]
  },
  {
   "cell_type": "markdown",
   "metadata": {},
   "source": [
    "## Execute the job"
   ]
  },
  {
   "cell_type": "code",
   "execution_count": 3,
   "metadata": {
    "scrolled": true
   },
   "outputs": [
    {
     "name": "stdout",
     "output_type": "stream",
     "text": [
      "No configs found; falling back on auto-configuration\n",
      "No configs specified for inline runner\n",
      "Creating temp directory /var/folders/yq/ptqh5wpx28b34h8ltjvjp0wm0000gn/T/rating_counter.alejo.20200211.234227.036957\n",
      "Running step 1 of 1...\n",
      "job output is in /var/folders/yq/ptqh5wpx28b34h8ltjvjp0wm0000gn/T/rating_counter.alejo.20200211.234227.036957/output\n",
      "Streaming final output from /var/folders/yq/ptqh5wpx28b34h8ltjvjp0wm0000gn/T/rating_counter.alejo.20200211.234227.036957/output...\n",
      "\"3\"\t4\n",
      "\"4\"\t1\n",
      "\"5\"\t1\n",
      "\"2\"\t2\n",
      "\"1\"\t2\n",
      "Removing temp directory /var/folders/yq/ptqh5wpx28b34h8ltjvjp0wm0000gn/T/rating_counter.alejo.20200211.234227.036957...\n"
     ]
    }
   ],
   "source": [
    "!python rating_counter.py ./map_reduce/movie_ratings.csv"
   ]
  },
  {
   "cell_type": "markdown",
   "metadata": {},
   "source": [
    "## Do the ratings match?"
   ]
  },
  {
   "cell_type": "code",
   "execution_count": null,
   "metadata": {},
   "outputs": [],
   "source": []
  }
 ],
 "metadata": {
  "kernelspec": {
   "display_name": "Python 3",
   "language": "python",
   "name": "python3"
  },
  "language_info": {
   "codemirror_mode": {
    "name": "ipython",
    "version": 3
   },
   "file_extension": ".py",
   "mimetype": "text/x-python",
   "name": "python",
   "nbconvert_exporter": "python",
   "pygments_lexer": "ipython3",
   "version": "3.6.5"
  }
 },
 "nbformat": 4,
 "nbformat_minor": 2
}
