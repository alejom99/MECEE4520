{
 "cells": [
  {
   "cell_type": "markdown",
   "metadata": {},
   "source": [
    "# Exposing ML Model through API"
   ]
  },
  {
   "cell_type": "code",
   "execution_count": 1,
   "metadata": {},
   "outputs": [
    {
     "name": "stderr",
     "output_type": "stream",
     "text": [
      " * Running on http://127.0.0.1:5000/ (Press CTRL+C to quit)\n"
     ]
    }
   ],
   "source": [
    "import threading\n",
    "from flask import Flask, request\n",
    "from joblib import load\n",
    "\n",
    "app = Flask(__name__)\n",
    "\n",
    "vectorizer = load('/tmp/doc_class_model_funding_news_v1/financial_news_vectorizer.joblib')\n",
    "clf = load('/tmp/doc_class_model_funding_news_v1/financial_news_classifier.joblib')\n",
    "\n",
    "@app.route('/is_funding_news', methods=('POST',))\n",
    "def is_funding_news():\n",
    "    \"\"\" Classifies a text as funding news.\n",
    "\n",
    "        Returns:\n",
    "            True if model is funding news, False otherwise\n",
    "    \"\"\"\n",
    "    \n",
    "    text = request.form.get('text')\n",
    "           \n",
    "    X_test = vectorizer.transform([text])\n",
    "    y_pred = clf.predict(X_test)\n",
    "    return str(y_pred[0])\n",
    "           \n",
    "\n",
    "if __name__ == '__main__':\n",
    "    #app.run()\n",
    "    t = threading.Thread(target=app.run)\n",
    "    t.start()\n"
   ]
  },
  {
   "cell_type": "code",
   "execution_count": 3,
   "metadata": {},
   "outputs": [
    {
     "name": "stderr",
     "output_type": "stream",
     "text": [
      "127.0.0.1 - - [19/Feb/2019 06:47:20] \"POST /is_funding_news HTTP/1.1\" 200 -\n"
     ]
    },
    {
     "name": "stdout",
     "output_type": "stream",
     "text": [
      "False"
     ]
    }
   ],
   "source": [
    "!curl -X POST -F \"text=this is not funding news\" http://localhost:5000/is_funding_news"
   ]
  },
  {
   "cell_type": "code",
   "execution_count": 5,
   "metadata": {},
   "outputs": [
    {
     "name": "stderr",
     "output_type": "stream",
     "text": [
      "127.0.0.1 - - [19/Feb/2019 06:51:19] \"POST /is_funding_news HTTP/1.1\" 200 -\n"
     ]
    },
    {
     "name": "stdout",
     "output_type": "stream",
     "text": [
      "True"
     ]
    }
   ],
   "source": [
    "!curl -X POST -F \"text=N26, a global mobile bank based in Germany, announced a $300 million Series D funding round led by Willkie client Insight Venture Partners, valuing N26 at $2.7 billion. The round also includes participation from GIC, Singapore’s sovereign wealth fund, and several existing investors. The $300 million funding represents the largest private equity financing round for a fintech company in Europe in recent years.\" http://localhost:5000/is_funding_news\n"
   ]
  },
  {
   "cell_type": "code",
   "execution_count": null,
   "metadata": {},
   "outputs": [],
   "source": []
  }
 ],
 "metadata": {
  "kernelspec": {
   "display_name": "Python 3",
   "language": "python",
   "name": "python3"
  },
  "language_info": {
   "codemirror_mode": {
    "name": "ipython",
    "version": 3
   },
   "file_extension": ".py",
   "mimetype": "text/x-python",
   "name": "python",
   "nbconvert_exporter": "python",
   "pygments_lexer": "ipython3",
   "version": "3.6.5"
  }
 },
 "nbformat": 4,
 "nbformat_minor": 2
}
